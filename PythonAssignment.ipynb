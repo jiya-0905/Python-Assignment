{
  "nbformat": 4,
  "nbformat_minor": 0,
  "metadata": {
    "colab": {
      "provenance": [],
      "authorship_tag": "ABX9TyOSRL9tC5GVigPlOsSVTHvx",
      "include_colab_link": true
    },
    "kernelspec": {
      "name": "python3",
      "display_name": "Python 3"
    },
    "language_info": {
      "name": "python"
    }
  },
  "cells": [
    {
      "cell_type": "markdown",
      "metadata": {
        "id": "view-in-github",
        "colab_type": "text"
      },
      "source": [
        "<a href=\"https://colab.research.google.com/github/jiya-0905/Python-Assignment/blob/main/PythonAssignment.ipynb\" target=\"_parent\"><img src=\"https://colab.research.google.com/assets/colab-badge.svg\" alt=\"Open In Colab\"/></a>"
      ]
    },
    {
      "cell_type": "markdown",
      "source": [
        "**PYTHON ASSIGNMENT**\n"
      ],
      "metadata": {
        "id": "e7dljC9Q37r7"
      }
    },
    {
      "cell_type": "markdown",
      "source": [
        "QUESTION 1\n",
        "\n",
        "L is a list defined as L=[11,12,13,14]:"
      ],
      "metadata": {
        "id": "-DH-1p6S4M1i"
      }
    },
    {
      "cell_type": "markdown",
      "source": [
        "(i)WAP to add 50 and 60 to the list."
      ],
      "metadata": {
        "id": "KmsQA5_U4vzV"
      }
    },
    {
      "cell_type": "code",
      "source": [
        "L=[11,12,13,14]\n",
        "L.append(50)\n",
        "L.append(60)"
      ],
      "metadata": {
        "id": "trskW7M64KnG"
      },
      "execution_count": 62,
      "outputs": []
    },
    {
      "cell_type": "markdown",
      "source": [
        "(ii) WAP to remove 11 and 13 from L."
      ],
      "metadata": {
        "id": "zanGbewJ4L81"
      }
    },
    {
      "cell_type": "code",
      "execution_count": 63,
      "metadata": {
        "id": "hDE-hQKo3mZK"
      },
      "outputs": [],
      "source": [
        "L.remove(11)\n",
        "L.remove(13)"
      ]
    },
    {
      "cell_type": "markdown",
      "source": [
        "(iii) WAP to sort L in ascending order"
      ],
      "metadata": {
        "id": "FUnayTJn4KM7"
      }
    },
    {
      "cell_type": "code",
      "source": [
        "L.sort()"
      ],
      "metadata": {
        "id": "DTrKtBH45jP9"
      },
      "execution_count": 64,
      "outputs": []
    },
    {
      "cell_type": "markdown",
      "source": [
        "(iv) WAP to sort L in descending order\n"
      ],
      "metadata": {
        "id": "XrwFta7i5uh7"
      }
    },
    {
      "cell_type": "code",
      "source": [
        "L.sort(reverse=True)\n",
        "for val in L:\n",
        "    print(val)"
      ],
      "metadata": {
        "id": "d3lPB0UY55WF",
        "colab": {
          "base_uri": "https://localhost:8080/"
        },
        "outputId": "d0c676da-557b-49c0-ac4d-4cf53da911a6"
      },
      "execution_count": 65,
      "outputs": [
        {
          "output_type": "stream",
          "name": "stdout",
          "text": [
            "60\n",
            "50\n",
            "14\n",
            "12\n"
          ]
        }
      ]
    },
    {
      "cell_type": "markdown",
      "source": [
        "(v) WAP to search for 13 in L."
      ],
      "metadata": {
        "id": "2dfiHVwM6JOf"
      }
    },
    {
      "cell_type": "code",
      "source": [
        "for val in L:\n",
        "    if val!=13:\n",
        "        continue\n",
        "    else:\n",
        "        print(\"13 was found\")"
      ],
      "metadata": {
        "id": "H_lxx_Vm6C3g"
      },
      "execution_count": 66,
      "outputs": []
    },
    {
      "cell_type": "markdown",
      "source": [
        "(vi) WAP to count the number of elements present in L."
      ],
      "metadata": {
        "id": "sGqcWysA6QTF"
      }
    },
    {
      "cell_type": "code",
      "source": [
        "print(len(L))"
      ],
      "metadata": {
        "id": "InK-nV0q6P0H",
        "colab": {
          "base_uri": "https://localhost:8080/"
        },
        "outputId": "81a1ffd5-fc30-4664-93b4-232e03a2624c"
      },
      "execution_count": 67,
      "outputs": [
        {
          "output_type": "stream",
          "name": "stdout",
          "text": [
            "4\n"
          ]
        }
      ]
    },
    {
      "cell_type": "markdown",
      "source": [
        "(vii) WAP to sum all the elements in L."
      ],
      "metadata": {
        "id": "TqEOh0-K6cVb"
      }
    },
    {
      "cell_type": "code",
      "source": [
        "suml=0\n",
        "for val in L:\n",
        "    suml+=val\n",
        "print(suml)"
      ],
      "metadata": {
        "id": "PZYmBFtB6hsF",
        "colab": {
          "base_uri": "https://localhost:8080/"
        },
        "outputId": "5c913957-7745-4df4-d7e4-05f226a01f78"
      },
      "execution_count": 68,
      "outputs": [
        {
          "output_type": "stream",
          "name": "stdout",
          "text": [
            "136\n"
          ]
        }
      ]
    },
    {
      "cell_type": "markdown",
      "source": [
        "(viii) WAP to sum all ODD numbers in L."
      ],
      "metadata": {
        "id": "Y9EbvwOx6psS"
      }
    },
    {
      "cell_type": "code",
      "source": [
        "suml=0\n",
        "for val in L:\n",
        "    if val%2!=0:\n",
        "        suml+=val\n",
        "print(suml)"
      ],
      "metadata": {
        "id": "JAPG11IF6t9z",
        "colab": {
          "base_uri": "https://localhost:8080/"
        },
        "outputId": "ecd90e02-64d2-402d-f105-d393da723fa8"
      },
      "execution_count": 71,
      "outputs": [
        {
          "output_type": "stream",
          "name": "stdout",
          "text": [
            "0\n"
          ]
        }
      ]
    },
    {
      "cell_type": "markdown",
      "source": [
        "(ix) WAP to sum all EVEN numbers in L."
      ],
      "metadata": {
        "id": "uX6H_ylk6y0o"
      }
    },
    {
      "cell_type": "code",
      "source": [
        "suml=0\n",
        "for val in L:\n",
        "    if val%2==0:\n",
        "        suml+=val\n",
        "print(suml)"
      ],
      "metadata": {
        "id": "ekzoiW8R62Oa",
        "colab": {
          "base_uri": "https://localhost:8080/"
        },
        "outputId": "ed0520c6-ba39-47fd-d42d-041502f4053e"
      },
      "execution_count": 72,
      "outputs": [
        {
          "output_type": "stream",
          "name": "stdout",
          "text": [
            "136\n"
          ]
        }
      ]
    },
    {
      "cell_type": "markdown",
      "source": [
        "(x) WAP to sum all PRIME numbers in L."
      ],
      "metadata": {
        "id": "2Mna5ZZu66kH"
      }
    },
    {
      "cell_type": "code",
      "source": [
        "suml=0\n",
        "flag=1\n",
        "L.append(5)\n",
        "L.append(3)\n",
        "for val in L:\n",
        "    if val==0 or val==1:\n",
        "        continue\n",
        "    for i in range(2,int(val/2)):\n",
        "        if val%i==0:\n",
        "            flag=0\n",
        "            break\n",
        "    if flag==1:\n",
        "            suml+=val\n",
        "    flag=1\n",
        "print(suml)"
      ],
      "metadata": {
        "id": "QrZV8-YF690j",
        "colab": {
          "base_uri": "https://localhost:8080/"
        },
        "outputId": "f96941eb-a459-476e-e323-d1143c7f8c44"
      },
      "execution_count": 73,
      "outputs": [
        {
          "output_type": "stream",
          "name": "stdout",
          "text": [
            "8\n"
          ]
        }
      ]
    },
    {
      "cell_type": "markdown",
      "source": [
        "(xi) WAP to clear all the elements in L.\n"
      ],
      "metadata": {
        "id": "WjN_nxiI7X2V"
      }
    },
    {
      "cell_type": "code",
      "source": [
        "L.clear()\n"
      ],
      "metadata": {
        "id": "Em9FDwCl7a5-"
      },
      "execution_count": 74,
      "outputs": []
    },
    {
      "cell_type": "markdown",
      "source": [
        "(xii) WAP to delete L"
      ],
      "metadata": {
        "id": "wT1k6exN7fSf"
      }
    },
    {
      "cell_type": "code",
      "source": [
        "del L\n",
        "print(L)     # L does not exist anymore , so shows error\n",
        ""
      ],
      "metadata": {
        "id": "tvyPAQ5C7iXY",
        "colab": {
          "base_uri": "https://localhost:8080/",
          "height": 176
        },
        "outputId": "e3c6d8c0-1499-4e5d-e998-834394b18ac8"
      },
      "execution_count": 112,
      "outputs": [
        {
          "output_type": "error",
          "ename": "NameError",
          "evalue": "name 'L' is not defined",
          "traceback": [
            "\u001b[0;31m---------------------------------------------------------------------------\u001b[0m",
            "\u001b[0;31mNameError\u001b[0m                                 Traceback (most recent call last)",
            "\u001b[0;32m<ipython-input-112-a4eee2238132>\u001b[0m in \u001b[0;36m<cell line: 2>\u001b[0;34m()\u001b[0m\n\u001b[1;32m      1\u001b[0m \u001b[0;32mdel\u001b[0m \u001b[0mL\u001b[0m\u001b[0;34m\u001b[0m\u001b[0;34m\u001b[0m\u001b[0m\n\u001b[0;32m----> 2\u001b[0;31m \u001b[0mprint\u001b[0m\u001b[0;34m(\u001b[0m\u001b[0mL\u001b[0m\u001b[0;34m)\u001b[0m     \u001b[0;31m# L does not exist anymore , so shows error\u001b[0m\u001b[0;34m\u001b[0m\u001b[0;34m\u001b[0m\u001b[0m\n\u001b[0m\u001b[1;32m      3\u001b[0m \u001b[0;34m\u001b[0m\u001b[0m\n",
            "\u001b[0;31mNameError\u001b[0m: name 'L' is not defined"
          ]
        }
      ]
    },
    {
      "cell_type": "markdown",
      "source": [
        "QUESTION 2\n",
        "\n",
        "D is a dictionary defined as D= {1:5.6, 2:7.8, 3:6.6, 4:8.7, 5:7.7}."
      ],
      "metadata": {
        "id": "HYkYm1Ui7vIE"
      }
    },
    {
      "cell_type": "markdown",
      "source": [
        "(i) WAP to add new entry in D; key=8 and value is 8.8\n"
      ],
      "metadata": {
        "id": "OMkJ3vZL72WW"
      }
    },
    {
      "cell_type": "code",
      "source": [
        "D={\n",
        "    1:5.6,\n",
        "    2:7.8,\n",
        "    3:6.6,\n",
        "    4:8.7,\n",
        "    5:7.7\n",
        "}\n",
        "D[8]=8.8"
      ],
      "metadata": {
        "id": "b74-aIGR74sO"
      },
      "execution_count": 76,
      "outputs": []
    },
    {
      "cell_type": "markdown",
      "source": [
        "(ii) WAP to remove key=2."
      ],
      "metadata": {
        "id": "OgyYknvq8Fky"
      }
    },
    {
      "cell_type": "code",
      "source": [
        "D.pop(2)\n",
        "print(D.values())# Value of 2 that is 7.8 is removed"
      ],
      "metadata": {
        "colab": {
          "base_uri": "https://localhost:8080/"
        },
        "id": "QVutx4q08Te0",
        "outputId": "1ca59f41-f743-4849-c23c-5f125ee2ef36"
      },
      "execution_count": 77,
      "outputs": [
        {
          "output_type": "stream",
          "name": "stdout",
          "text": [
            "dict_values([5.6, 6.6, 8.7, 7.7, 8.8])\n"
          ]
        }
      ]
    },
    {
      "cell_type": "markdown",
      "source": [
        "(iii) WAP to check weather 6 key is present in D."
      ],
      "metadata": {
        "id": "qF_wCE2X8kFL"
      }
    },
    {
      "cell_type": "code",
      "source": [
        "if 6 in D.keys():\n",
        "    print(\"6 key is present in D\")\n",
        "else:\n",
        "    print(\"6 key is not present\")"
      ],
      "metadata": {
        "colab": {
          "base_uri": "https://localhost:8080/"
        },
        "id": "BEDpVO-28o2V",
        "outputId": "8af86388-7846-44a3-fac2-ee3603518d29"
      },
      "execution_count": 78,
      "outputs": [
        {
          "output_type": "stream",
          "name": "stdout",
          "text": [
            "6 key is not present\n"
          ]
        }
      ]
    },
    {
      "cell_type": "markdown",
      "source": [
        "(iv) WAP to count the number of elements present in D."
      ],
      "metadata": {
        "id": "RxJ4deBi8n5d"
      }
    },
    {
      "cell_type": "code",
      "source": [
        "print(len(D))"
      ],
      "metadata": {
        "colab": {
          "base_uri": "https://localhost:8080/"
        },
        "id": "DkQWorM_8oYh",
        "outputId": "735f8b3f-71d0-4149-d7a5-5a09322f8e21"
      },
      "execution_count": 79,
      "outputs": [
        {
          "output_type": "stream",
          "name": "stdout",
          "text": [
            "5\n"
          ]
        }
      ]
    },
    {
      "cell_type": "markdown",
      "source": [
        "(v) WAP to add all the values present D."
      ],
      "metadata": {
        "id": "ZKaxHN9Z85d2"
      }
    },
    {
      "cell_type": "code",
      "source": [
        "suml=0\n",
        "for val in D.values():\n",
        "    suml+=val\n",
        "print(suml)"
      ],
      "metadata": {
        "id": "pVk0Gguz88E2",
        "colab": {
          "base_uri": "https://localhost:8080/"
        },
        "outputId": "eed56fbb-e8eb-44d0-86c5-624ae06d81e1"
      },
      "execution_count": 80,
      "outputs": [
        {
          "output_type": "stream",
          "name": "stdout",
          "text": [
            "37.4\n"
          ]
        }
      ]
    },
    {
      "cell_type": "markdown",
      "source": [
        "(vi) WAP to update the value of 3 to 7.1."
      ],
      "metadata": {
        "id": "YNgYbLz_S0uX"
      }
    },
    {
      "cell_type": "code",
      "source": [
        "D[3]=7.1\n",
        "print(D.values())"
      ],
      "metadata": {
        "colab": {
          "base_uri": "https://localhost:8080/"
        },
        "id": "srmADaNPS9Cb",
        "outputId": "e69ed5f7-ea5d-444a-ee10-c4719d63eec7"
      },
      "execution_count": 81,
      "outputs": [
        {
          "output_type": "stream",
          "name": "stdout",
          "text": [
            "dict_values([5.6, 7.1, 8.7, 7.7, 8.8])\n"
          ]
        }
      ]
    },
    {
      "cell_type": "markdown",
      "source": [
        "(vii) WAP to clear the dictionary.\n"
      ],
      "metadata": {
        "id": "jodmMBLSTP7B"
      }
    },
    {
      "cell_type": "code",
      "source": [
        "D.clear()\n",
        "print(D.values())"
      ],
      "metadata": {
        "colab": {
          "base_uri": "https://localhost:8080/"
        },
        "id": "NdlbDv7OTSmq",
        "outputId": "90e81c1b-cda2-4d6d-9ece-362897fb48f1"
      },
      "execution_count": 82,
      "outputs": [
        {
          "output_type": "stream",
          "name": "stdout",
          "text": [
            "dict_values([])\n"
          ]
        }
      ]
    },
    {
      "cell_type": "markdown",
      "source": [
        "  QUESTION 3\n",
        "\n",
        "  S1 is a set defined as S1= [10, 20, 30, 40, 50, 60].\n",
        "  \n",
        " S2 is a set defined as S2= [40, 50, 60, 70, 80, 90]."
      ],
      "metadata": {
        "id": "Pe_wdtMoTWyX"
      }
    },
    {
      "cell_type": "markdown",
      "source": [
        "(i) WAP to add 55 and 66 in Set S1."
      ],
      "metadata": {
        "id": "sH3wAAeWTeNy"
      }
    },
    {
      "cell_type": "code",
      "source": [
        "S1={10,20,30,40,50,60}\n",
        "S2={40,50,60,70,80,90}\n",
        "S1.add(55)\n",
        "S1.add(66)"
      ],
      "metadata": {
        "id": "yAgFpXB6Ti7c"
      },
      "execution_count": 83,
      "outputs": []
    },
    {
      "cell_type": "markdown",
      "source": [
        "(ii) WAP to remove 10 and 30 from Set S1."
      ],
      "metadata": {
        "id": "aw_g7sJ-Tm-M"
      }
    },
    {
      "cell_type": "code",
      "source": [
        "S1.remove(10)\n",
        "S1.remove(30)"
      ],
      "metadata": {
        "id": "8AR4fXvYTp7g"
      },
      "execution_count": 84,
      "outputs": []
    },
    {
      "cell_type": "markdown",
      "source": [
        "(iii) WAP to check whether 40 is present in S1.\n"
      ],
      "metadata": {
        "id": "YmV-BGMOTu1b"
      }
    },
    {
      "cell_type": "code",
      "source": [
        "for el in S1:\n",
        "     if el==40:\n",
        "          print(\"40 is present in the set\")"
      ],
      "metadata": {
        "colab": {
          "base_uri": "https://localhost:8080/"
        },
        "id": "cmxHflWVTxap",
        "outputId": "bf7f8ae7-5698-4df8-bc21-04bb16cab42c"
      },
      "execution_count": 85,
      "outputs": [
        {
          "output_type": "stream",
          "name": "stdout",
          "text": [
            "40 is present in the set\n"
          ]
        }
      ]
    },
    {
      "cell_type": "markdown",
      "source": [
        "(iv) WAP to find the union between S1 and S2.\n"
      ],
      "metadata": {
        "id": "gvtqp068T-d7"
      }
    },
    {
      "cell_type": "code",
      "source": [
        "print(S1.union(S2))"
      ],
      "metadata": {
        "colab": {
          "base_uri": "https://localhost:8080/"
        },
        "id": "SQsPs4FxUC45",
        "outputId": "698cf625-ff35-4a10-f593-96544fed37aa"
      },
      "execution_count": 86,
      "outputs": [
        {
          "output_type": "stream",
          "name": "stdout",
          "text": [
            "{66, 70, 40, 80, 50, 20, 55, 90, 60}\n"
          ]
        }
      ]
    },
    {
      "cell_type": "markdown",
      "source": [
        "(v) WAP to find the intersection between S1 and S2."
      ],
      "metadata": {
        "id": "dPtOzPWTUYCa"
      }
    },
    {
      "cell_type": "code",
      "source": [
        "print(S1.intersection(S2))"
      ],
      "metadata": {
        "colab": {
          "base_uri": "https://localhost:8080/"
        },
        "id": "UT43gpRbUdVN",
        "outputId": "3f9be8e9-c2df-4aeb-c48b-647462286520"
      },
      "execution_count": 87,
      "outputs": [
        {
          "output_type": "stream",
          "name": "stdout",
          "text": [
            "{40, 50, 60}\n"
          ]
        }
      ]
    },
    {
      "cell_type": "markdown",
      "source": [
        "(vi) WAP to find the S1 - S2."
      ],
      "metadata": {
        "id": "ZgG5VCiWUnTG"
      }
    },
    {
      "cell_type": "code",
      "source": [
        "print(S1.difference(S2))"
      ],
      "metadata": {
        "colab": {
          "base_uri": "https://localhost:8080/"
        },
        "id": "JVaL_oUDUoR9",
        "outputId": "d8368e77-cb0f-44ba-e238-7b2bf48605d9"
      },
      "execution_count": 88,
      "outputs": [
        {
          "output_type": "stream",
          "name": "stdout",
          "text": [
            "{66, 20, 55}\n"
          ]
        }
      ]
    },
    {
      "cell_type": "markdown",
      "source": [
        "  QUESTION 4\n",
        "\n",
        "  Write the following program."
      ],
      "metadata": {
        "id": "etKMQ9KMUu-a"
      }
    },
    {
      "cell_type": "markdown",
      "source": [
        "(i) WAP to print 100 random strings whose length between 6 and 8."
      ],
      "metadata": {
        "id": "EmxUawFbU0V8"
      }
    },
    {
      "cell_type": "code",
      "source": [
        "import random as r\n",
        "import string  as s\n",
        "\n",
        "for i in range(100):\n",
        "    randstr=\"\".join(r.sample(s.ascii_letters,r.randint(6,8)))\n",
        "    print(randstr)"
      ],
      "metadata": {
        "colab": {
          "base_uri": "https://localhost:8080/"
        },
        "id": "1ZyUoT9fU3lK",
        "outputId": "1a89d27b-dc54-4ddb-cdf7-0713aa2ec26f"
      },
      "execution_count": 89,
      "outputs": [
        {
          "output_type": "stream",
          "name": "stdout",
          "text": [
            "NgOHof\n",
            "eClgASX\n",
            "zRFIuZyP\n",
            "GmOgqi\n",
            "AFVYjQ\n",
            "YOuxaNkz\n",
            "EKDLRkFM\n",
            "nmWVoewi\n",
            "rjSHFnPX\n",
            "QsXTxH\n",
            "vKQOXD\n",
            "ruLIfmJY\n",
            "DJTyjh\n",
            "zNlsiIqK\n",
            "DzBiJRGo\n",
            "aSFwQfl\n",
            "gqcCWOt\n",
            "rkuPKMF\n",
            "fhJgLxI\n",
            "uWYnjwif\n",
            "omVwItl\n",
            "OiaHkK\n",
            "bRXMOxc\n",
            "uqWQcRhg\n",
            "FaodAP\n",
            "etKUzE\n",
            "JQcvPi\n",
            "CTmbjgN\n",
            "LtPrmQIG\n",
            "opiRbOV\n",
            "OMrgsbi\n",
            "ftpVyK\n",
            "Mpehstu\n",
            "WLTnUmN\n",
            "NvrBafJ\n",
            "twEgHOSX\n",
            "egkiwpC\n",
            "SaMPBy\n",
            "MKrXCGF\n",
            "Hcvtqe\n",
            "ahMADQqv\n",
            "OmgFdun\n",
            "UVJGbcI\n",
            "niWIDT\n",
            "tFSLlUTn\n",
            "qWTfIyx\n",
            "ckUCgDE\n",
            "TIWXslYn\n",
            "NTuznrp\n",
            "AtseyY\n",
            "duUMIXeD\n",
            "OleXKwAP\n",
            "aqwfDo\n",
            "njHxGur\n",
            "EobkdBt\n",
            "oPSlRyM\n",
            "aBzpek\n",
            "tOJjrT\n",
            "xnDCmL\n",
            "xGvmdc\n",
            "VmRfYXQJ\n",
            "rBtSCJlk\n",
            "TJyZbGk\n",
            "GdHmXt\n",
            "fubYyD\n",
            "oNMaRJfm\n",
            "WvroiuxP\n",
            "jEUWHryA\n",
            "rwjyHY\n",
            "kQafUK\n",
            "sqUbuPQO\n",
            "MgRydv\n",
            "czHDLl\n",
            "IdHOoC\n",
            "yvrJumh\n",
            "iqTHYcN\n",
            "cVsAzQ\n",
            "ldRxNj\n",
            "HCeZmUGB\n",
            "AlCPvLdX\n",
            "jUTdIKV\n",
            "tCZyxdok\n",
            "pxQiBSn\n",
            "PyHvNDRn\n",
            "yQSeiN\n",
            "KuMyxd\n",
            "bAUiWYn\n",
            "LjUTmZ\n",
            "BuCVtH\n",
            "jItrkv\n",
            "HEMzrCi\n",
            "YKFrMb\n",
            "wicZsStE\n",
            "eFwkVU\n",
            "HCvKzJcf\n",
            "rHBRyz\n",
            "kjYDmSv\n",
            "gtEHrcPW\n",
            "hepRLU\n",
            "DsKRaPy\n"
          ]
        }
      ]
    },
    {
      "cell_type": "markdown",
      "source": [
        "(ii) WAP to print all prime numbers between 600 and 800."
      ],
      "metadata": {
        "id": "oxp4jRqNVB8K"
      }
    },
    {
      "cell_type": "code",
      "source": [
        "print(\"prime numbers between 600 and 800 are\")\n",
        "for i in range(600,800):\n",
        "    f=0\n",
        "    for j in range(2,(i//2)+1):\n",
        "        if i%j==0:\n",
        "            f=1\n",
        "            break\n",
        "    if f==0:\n",
        "        print(i)\n"
      ],
      "metadata": {
        "colab": {
          "base_uri": "https://localhost:8080/"
        },
        "id": "Urg47Ot3VEh_",
        "outputId": "6eacfd66-2549-4b6c-86bc-4d7a63e98bbe"
      },
      "execution_count": 90,
      "outputs": [
        {
          "output_type": "stream",
          "name": "stdout",
          "text": [
            "prime numbers between 600 and 800 are\n",
            "601\n",
            "607\n",
            "613\n",
            "617\n",
            "619\n",
            "631\n",
            "641\n",
            "643\n",
            "647\n",
            "653\n",
            "659\n",
            "661\n",
            "673\n",
            "677\n",
            "683\n",
            "691\n",
            "701\n",
            "709\n",
            "719\n",
            "727\n",
            "733\n",
            "739\n",
            "743\n",
            "751\n",
            "757\n",
            "761\n",
            "769\n",
            "773\n",
            "787\n",
            "797\n"
          ]
        }
      ]
    },
    {
      "cell_type": "markdown",
      "source": [
        "(iii) WAP to print all numbers between 100 and 1000 that are divisible by 7 and 9."
      ],
      "metadata": {
        "id": "5uEvPtqOVINa"
      }
    },
    {
      "cell_type": "code",
      "source": [
        "print(\"numbers between 100 and 1000 divisible by 7 and 9 are:\")\n",
        "for i in range(100,1000):\n",
        "    if i%7==0 and i%9==0:\n",
        "        print(i)"
      ],
      "metadata": {
        "colab": {
          "base_uri": "https://localhost:8080/"
        },
        "id": "9eDMTaDzVKxP",
        "outputId": "aa4551eb-e373-4b06-e6b2-4454bd60a501"
      },
      "execution_count": 91,
      "outputs": [
        {
          "output_type": "stream",
          "name": "stdout",
          "text": [
            "numbers between 100 and 1000 divisible by 7 and 9 are:\n",
            "126\n",
            "189\n",
            "252\n",
            "315\n",
            "378\n",
            "441\n",
            "504\n",
            "567\n",
            "630\n",
            "693\n",
            "756\n",
            "819\n",
            "882\n",
            "945\n"
          ]
        }
      ]
    },
    {
      "cell_type": "markdown",
      "source": [
        "QUESTION 5\n",
        "\n",
        "WAP to create two lists of 10 random numbers between 10 and 30; Find"
      ],
      "metadata": {
        "id": "CI39PEVgVTHx"
      }
    },
    {
      "cell_type": "code",
      "source": [
        "import random as r\n",
        "L1=[]\n",
        "L2=[]\n",
        "for i in range(10):\n",
        "    L1.append(r.randint(10,30))\n",
        "    L2.append(r.randint(10,30))\n",
        "print(\"L1\",L1)\n",
        "print(\"L2\",L2)"
      ],
      "metadata": {
        "colab": {
          "base_uri": "https://localhost:8080/"
        },
        "id": "02cb8sqxVbXY",
        "outputId": "ef09e4fc-a124-4392-8c1d-4da9c305424a"
      },
      "execution_count": 92,
      "outputs": [
        {
          "output_type": "stream",
          "name": "stdout",
          "text": [
            "L1 [12, 30, 20, 25, 15, 30, 25, 17, 20, 24]\n",
            "L2 [15, 11, 28, 11, 16, 15, 27, 26, 10, 14]\n"
          ]
        }
      ]
    },
    {
      "cell_type": "markdown",
      "source": [
        "(i) Common numbers in the two lists\n"
      ],
      "metadata": {
        "id": "Se6K_j3fVssI"
      }
    },
    {
      "cell_type": "code",
      "source": [
        "s1=set(L1)\n",
        "s2=set(L2)\n",
        "print(s1.intersection(s2))"
      ],
      "metadata": {
        "colab": {
          "base_uri": "https://localhost:8080/"
        },
        "id": "49zVbR8WVwfz",
        "outputId": "fab5a3a2-7479-4a22-f274-c2e64bc27b30"
      },
      "execution_count": 93,
      "outputs": [
        {
          "output_type": "stream",
          "name": "stdout",
          "text": [
            "{15}\n"
          ]
        }
      ]
    },
    {
      "cell_type": "markdown",
      "source": [
        "(ii) Unique numbers in both the list"
      ],
      "metadata": {
        "id": "yiBWJccOWBDc"
      }
    },
    {
      "cell_type": "code",
      "source": [
        "print(s1.symmetric_difference(s2))"
      ],
      "metadata": {
        "colab": {
          "base_uri": "https://localhost:8080/"
        },
        "id": "p1eGSBoFWDTd",
        "outputId": "b1993af6-5243-417f-fcb3-fe1c90cc863b"
      },
      "execution_count": 94,
      "outputs": [
        {
          "output_type": "stream",
          "name": "stdout",
          "text": [
            "{10, 11, 12, 14, 16, 17, 20, 24, 25, 26, 27, 28, 30}\n"
          ]
        }
      ]
    },
    {
      "cell_type": "markdown",
      "source": [
        "(iii) Minimum in both the list"
      ],
      "metadata": {
        "id": "Nqw5dl8pWI9v"
      }
    },
    {
      "cell_type": "code",
      "source": [
        "print(\"min in list 1:\",min(L1))\n",
        "print(\"min in list 2:\",min(L2))\n"
      ],
      "metadata": {
        "colab": {
          "base_uri": "https://localhost:8080/"
        },
        "id": "cMvSX_z7WMje",
        "outputId": "79fae89f-6fe2-4c67-8319-cffb0c6cef5f"
      },
      "execution_count": 95,
      "outputs": [
        {
          "output_type": "stream",
          "name": "stdout",
          "text": [
            "min in list 1: 12\n",
            "min in list 2: 10\n"
          ]
        }
      ]
    },
    {
      "cell_type": "markdown",
      "source": [
        "(iv) Maximum in both the list"
      ],
      "metadata": {
        "id": "8V54YbKGWTXq"
      }
    },
    {
      "cell_type": "code",
      "source": [
        "print(\"max in list 1:\",max(L1))\n",
        "print(\"max in list 2:\",max(L2))"
      ],
      "metadata": {
        "colab": {
          "base_uri": "https://localhost:8080/"
        },
        "id": "flPRsztFWVJJ",
        "outputId": "d932fc51-98e8-44dc-ac48-ad78feed1afc"
      },
      "execution_count": 96,
      "outputs": [
        {
          "output_type": "stream",
          "name": "stdout",
          "text": [
            "max in list 1: 30\n",
            "max in list 2: 28\n"
          ]
        }
      ]
    },
    {
      "cell_type": "markdown",
      "source": [
        "(v) Sum of both the lists"
      ],
      "metadata": {
        "id": "TOFABJfSWjx1"
      }
    },
    {
      "cell_type": "code",
      "source": [
        "#i used a variable sum earlier due to error is occuring if i use the built-in function\n",
        "suml1=0\n",
        "suml2=0\n",
        "for el in L1:\n",
        "  suml1+=el\n",
        "for el in L2:\n",
        "  suml2+=el\n",
        "print(  \"sum of list 1:\",suml1)\n",
        "print(  \"sum of list 2:\",suml2)"
      ],
      "metadata": {
        "colab": {
          "base_uri": "https://localhost:8080/"
        },
        "id": "4A-qbDX9biH6",
        "outputId": "2ceec2cf-fa97-495a-a644-5cb2638efb5b"
      },
      "execution_count": 101,
      "outputs": [
        {
          "output_type": "stream",
          "name": "stdout",
          "text": [
            "sum of list 1: 218\n",
            "sum of list 2: 173\n"
          ]
        }
      ]
    },
    {
      "cell_type": "markdown",
      "source": [
        "QUESTION 6\n",
        "\n",
        "Q6. WAP to create a list of 100 random numbers between 100 and 900. Count and print the:"
      ],
      "metadata": {
        "id": "9u1mrhzwcIXv"
      }
    },
    {
      "cell_type": "markdown",
      "source": [
        "(i) All odd numbers\n",
        "(ii) All even numbers\n",
        "(iii) All prime numbers"
      ],
      "metadata": {
        "id": "HVaSyrhwcQGa"
      }
    },
    {
      "cell_type": "code",
      "source": [
        "import random as r\n",
        "L=[]\n",
        "count_odd=[]\n",
        "count_even=[]\n",
        "count_prime=[]\n",
        "for i in range(100):\n",
        "    L.append(r.randint(100,900))\n",
        "print(\"L\",L)\n",
        "for i in L:\n",
        "    if i%2==0:\n",
        "        count_odd.append(i)\n",
        "    else:\n",
        "        count_even.append(i)\n",
        "    f=0\n",
        "    for j in range(2,(i//2)+1):\n",
        "        if i%j==0:\n",
        "            f=1\n",
        "            break\n",
        "    if f==0:\n",
        "        count_prime.append(i)\n",
        "print(\"no of odd elements is \",len(count_odd))\n",
        "print(\"odd numbers in the given range\",count_odd)\n",
        "print(\"no of even elements is \",len(count_even))\n",
        "print(\"even numbers in the given range\",count_even)\n",
        "print(\"no of prime elements is \",len(count_prime))\n",
        "print(\"prime numbers in the given range\",count_prime)"
      ],
      "metadata": {
        "colab": {
          "base_uri": "https://localhost:8080/"
        },
        "id": "BjqbDOzFcfi1",
        "outputId": "703c29bc-b1ef-4951-fa67-2ec6516b0840"
      },
      "execution_count": 102,
      "outputs": [
        {
          "output_type": "stream",
          "name": "stdout",
          "text": [
            "L [805, 481, 198, 712, 175, 143, 595, 642, 822, 741, 890, 140, 724, 105, 436, 799, 471, 760, 551, 183, 616, 707, 843, 434, 268, 813, 687, 893, 566, 852, 493, 169, 779, 164, 223, 250, 201, 579, 136, 147, 415, 864, 648, 527, 899, 688, 447, 199, 272, 382, 809, 158, 133, 500, 696, 416, 830, 762, 248, 735, 281, 614, 732, 164, 755, 551, 811, 561, 438, 645, 230, 447, 507, 207, 249, 893, 413, 100, 450, 179, 370, 668, 371, 600, 648, 746, 486, 327, 607, 383, 544, 441, 332, 455, 439, 854, 656, 831, 364, 555]\n",
            "no of odd elements is  47\n",
            "odd numbers in the given range [198, 712, 642, 822, 890, 140, 724, 436, 760, 616, 434, 268, 566, 852, 164, 250, 136, 864, 648, 688, 272, 382, 158, 500, 696, 416, 830, 762, 248, 614, 732, 164, 438, 230, 100, 450, 370, 668, 600, 648, 746, 486, 544, 332, 854, 656, 364]\n",
            "no of even elements is  53\n",
            "even numbers in the given range [805, 481, 175, 143, 595, 741, 105, 799, 471, 551, 183, 707, 843, 813, 687, 893, 493, 169, 779, 223, 201, 579, 147, 415, 527, 899, 447, 199, 809, 133, 735, 281, 755, 551, 811, 561, 645, 447, 507, 207, 249, 893, 413, 179, 371, 327, 607, 383, 441, 455, 439, 831, 555]\n",
            "no of prime elements is  9\n",
            "prime numbers in the given range [223, 199, 809, 281, 811, 179, 607, 383, 439]\n"
          ]
        }
      ]
    },
    {
      "cell_type": "markdown",
      "source": [
        "QUESTION 7\n",
        "\n",
        "D is a dictionary defined as D={1:\"One\",2:\"Two\",3:\"Three\",4:\"Four\", 5:\"Five\"}.\n",
        " WAP to read all the keys and values from dictionary and write to the file in the given below format:\n",
        "\n",
        " Key1, Value1\n",
        "\n",
        "Key2, Value2\n",
        "\n",
        "Key3, Value3"
      ],
      "metadata": {
        "id": "KoSDV4fbcqeC"
      }
    },
    {
      "cell_type": "code",
      "source": [
        "D={\n",
        "    1:\"one\",\n",
        "    2:\"two\",\n",
        "    3:\"three\",\n",
        "    4:\"four\",\n",
        "    5:\"five\"\n",
        "}\n",
        "fp=open(\"./dict.txt\",\"w\")\n",
        "for k in D:\n",
        "    fp.write(str(k))\n",
        "    fp.write(\" , \")\n",
        "    fp.write(D[k])\n",
        "    fp.write(\"\\n\")\n",
        "fp.close()"
      ],
      "metadata": {
        "id": "zfuyHiqLdBcV"
      },
      "execution_count": 103,
      "outputs": []
    },
    {
      "cell_type": "markdown",
      "source": [
        "QUESTION 8.\n",
        "\n",
        " L is a list defined as L={\"One\",\"Two\",\"Three\",\"Four\",\"Five\"}.\n",
        " WAP to count the length of reach element from a list and write to the file in the given below format:\n",
        "One, 3\n",
        "Two, 3\n",
        "Four, 4"
      ],
      "metadata": {
        "id": "AEsWx2q1cvm7"
      }
    },
    {
      "cell_type": "code",
      "source": [
        "List=[\"one\",\"two\",\"three\",\"four\",\"five\"]\n",
        "\n",
        "fp=open(\"./q8.txt\",\"w\")\n",
        "for el in List:\n",
        "    fp.write(el)\n",
        "    fp.write(\" , \")\n",
        "    fp.write(str(len(el)))\n",
        "    fp.write(\"\\n\")\n",
        "fp.close()"
      ],
      "metadata": {
        "id": "CpvyXmUJdRwn"
      },
      "execution_count": 104,
      "outputs": []
    },
    {
      "cell_type": "markdown",
      "source": [
        "QUESTION 9.\n",
        "\n",
        " Write to the file 100 random strings whose length between 10 and 15."
      ],
      "metadata": {
        "id": "gy_9IexUdXi8"
      }
    },
    {
      "cell_type": "code",
      "source": [
        "import random as r\n",
        "import string as s\n",
        "fp=open(\"./str.txt\",\"w\")\n",
        "for i in range(100):\n",
        "    randstr=\"\".join(r.sample(s.ascii_letters,r.randint(10,15)))\n",
        "    fp.write(randstr)\n",
        "    fp.write(\"\\n\")\n",
        "fp.close()"
      ],
      "metadata": {
        "id": "EFv_3M5hdZ9r"
      },
      "execution_count": 105,
      "outputs": []
    },
    {
      "cell_type": "markdown",
      "source": [
        "QUESTION 10.\n",
        "\n",
        " Write to the file all prime numbers between 600 and 800."
      ],
      "metadata": {
        "id": "Cpsz8MdWeFPD"
      }
    },
    {
      "cell_type": "code",
      "source": [
        "fp=open(\"./prime.txt\",\"w\")\n",
        "for i in range(600,800):\n",
        "    f=0\n",
        "    for j in range(2,(i//2)+1):\n",
        "        if i%j==0:\n",
        "            f=1\n",
        "            break\n",
        "    if f==0:\n",
        "        fp.write(str(i))\n",
        "        fp.write(\"\\n\")\n",
        "fp.close()"
      ],
      "metadata": {
        "id": "G9TdQ8KHeOcL"
      },
      "execution_count": 106,
      "outputs": []
    },
    {
      "cell_type": "markdown",
      "source": [
        "QUESTION 11.\n",
        "\n",
        " WAP to calculate the time taken by a program.\n"
      ],
      "metadata": {
        "id": "ecCaTjozeQeY"
      }
    },
    {
      "cell_type": "code",
      "source": [
        "import time\n",
        "start = time.time()\n",
        "#program\n",
        "end = time.time()\n",
        "print(end - start)"
      ],
      "metadata": {
        "colab": {
          "base_uri": "https://localhost:8080/"
        },
        "id": "80zI7I7aeTK9",
        "outputId": "c9283645-1e74-4e8b-83d0-b5ac2e3b5f03"
      },
      "execution_count": 107,
      "outputs": [
        {
          "output_type": "stream",
          "name": "stdout",
          "text": [
            "4.7206878662109375e-05\n"
          ]
        }
      ]
    },
    {
      "cell_type": "markdown",
      "source": [
        "QUESTION 12\n",
        "\n",
        " WAP to sort following number of elements in a list, calculate time taken and plot the graph.\n",
        "Number of elements in list , Time Taken\n",
        "\n",
        "5k    ,               T1\n",
        "\n",
        "10k, T2\n",
        "\n",
        "15k, T3\n",
        "\n",
        "20k, T4\n",
        "\n",
        "25k ,T5"
      ],
      "metadata": {
        "id": "zU49OMItea_C"
      }
    },
    {
      "cell_type": "code",
      "source": [
        "import time\n",
        "import random as r\n",
        "import matplotlib.pyplot as pltpy\n",
        "lambi_list=[]\n",
        "len_list=[]\n",
        "T=[]\n",
        "for i in range(1,6):\n",
        "    for j in range(5000*i):\n",
        "        lambi_list.append(r.randint(1,11000))\n",
        "    start = time.time()\n",
        "    lambi_list.sort()\n",
        "    end = time.time()\n",
        "    T.append(end - start)\n",
        "    len_list.append(5000*i)\n",
        "\n",
        "pltpy.plot(len_list,T)\n",
        "pltpy.xlabel(\"len_list\")\n",
        "pltpy.ylabel(\"time taken\")\n",
        "pltpy.show()"
      ],
      "metadata": {
        "colab": {
          "base_uri": "https://localhost:8080/",
          "height": 450
        },
        "id": "k7eFMcs4evSJ",
        "outputId": "ce881d3e-6fc1-41fd-d236-bc5f1092a70d"
      },
      "execution_count": 108,
      "outputs": [
        {
          "output_type": "display_data",
          "data": {
            "text/plain": [
              "<Figure size 640x480 with 1 Axes>"
            ],
            "image/png": "[encoded data removed]"
          },
          "metadata": {}
        }
      ]
    },
    {
      "cell_type": "markdown",
      "source": [
        "QUESTION 13\n",
        "\n",
        "WAP to create a dictionary of student marks in five subjects and you have to find the student\n",
        " having maximum and minimum average marks."
      ],
      "metadata": {
        "id": "MPxI_MYje1MC"
      }
    },
    {
      "cell_type": "code",
      "source": [
        "student_marks={\n",
        "    \"abc\":[98,97,64,90,100],\n",
        "    \"efg\":[74,76,78,80,90],\n",
        "    \"mno\":[78,34,98,37,65],\n",
        "    \"xyz\":[19,24,54,23,13]\n",
        "}\n",
        "avg={}\n",
        "maxi=\"\"\n",
        "mini=\"\"\n",
        "for i in student_marks.keys():\n",
        "  sumv=0\n",
        "  for j in student_marks[i]:\n",
        "    sumv+=j\n",
        "  avg[i]=sumv/5\n",
        "for i in avg.keys():\n",
        "    if avg[i]==max(avg.values()):\n",
        "        maxi=i\n",
        "    if avg[i]==min(avg.values()):\n",
        "        mini=i\n",
        "print(\"student with max average\",maxi,\"with avg of \",avg[maxi])\n",
        "print(\"student with min average\",mini,\"with avg of \",avg[mini])"
      ],
      "metadata": {
        "colab": {
          "base_uri": "https://localhost:8080/"
        },
        "id": "4LBj9v6ve944",
        "outputId": "5384145b-cbc9-4506-fb01-e6fe7e42c056"
      },
      "execution_count": 111,
      "outputs": [
        {
          "output_type": "stream",
          "name": "stdout",
          "text": [
            "student with max average abc with avg of  89.8\n",
            "student with min average xyz with avg of  26.6\n"
          ]
        }
      ]
    }
  ]
}